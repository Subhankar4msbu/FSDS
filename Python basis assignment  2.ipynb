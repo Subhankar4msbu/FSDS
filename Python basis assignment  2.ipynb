{
 "cells": [
  {
   "cell_type": "raw",
   "id": "ad8d284e",
   "metadata": {},
   "source": [
    "1> There are two Boolean values ,  True and False\n",
    "   We write them by True or False ."
   ]
  },
  {
   "cell_type": "raw",
   "id": "9a19a278",
   "metadata": {},
   "source": [
    "2> Three types of boolean data types are  AND, OR and NOT"
   ]
  },
  {
   "cell_type": "raw",
   "id": "f20f857b",
   "metadata": {},
   "source": [
    "3>\n",
    "condition 1\tcondition 2 NOT X    X AND Y    X OR Y\n",
    " (e.g., X)   (e.g., Y) ( ~ X )\t( X && Y )  ( X || Y )\n",
    "false\t       false\ttrue\t   false\tfalse\n",
    "false\t       true\t    true\t   false\ttrue\n",
    "true\t       false\tfalse\t   false\ttrue\n",
    "true\t        true\tfalse\t   true\t    true\n"
   ]
  },
  {
   "cell_type": "raw",
   "id": "df67aa46",
   "metadata": {},
   "source": [
    "4> \n",
    "What are the values of the following expressions?\n",
    "\n",
    "(5 > 4) and (3 == 5)             True and False    False\n",
    "not (5 > 4)                      False             False\n",
    "(5 > 4) or (3 == 5)              True or False     True\n",
    "not ((5 > 4) or (3 == 5))        False or True     True\n",
    "(True and True)and(True == False)True and False    False\n",
    "(not False) or (not True)        True or False     True"
   ]
  },
  {
   "cell_type": "raw",
   "id": "579f3c80",
   "metadata": {},
   "source": [
    "5>\n",
    "=\tEqual to\n",
    ">\tGreater than\n",
    "<\tLess than\n",
    ">=\tGreater than or equal to\n",
    "<=\tLess than or equal to\n",
    "!=  Not equal to"
   ]
  },
  {
   "cell_type": "raw",
   "id": "85ea054d",
   "metadata": {},
   "source": [
    "6> The “=” is an assignment operator is used to assign the value on the right to the variable on the left. The '==' operator checks whether the two given operands are equal or not. If so, it returns true. Otherwise it returns false.\n",
    "\n",
    "For eg: a=5 , means the assigned value of a is 5 where a==5 checks whether the two given operands are equal or not. If so, it returns true. Otherwise it returns false.\n"
   ]
  },
  {
   "cell_type": "raw",
   "id": "a5bf0f37",
   "metadata": {},
   "source": [
    "7> \n",
    "spam = 0\n",
    "if spam == 10:\n",
    "    print('eggs')    (#block1)\n",
    "if spam > 5:\n",
    "    print('bacon')   (#block2) \n",
    "else:\n",
    "    print('ham')     (#block3)\n",
    "    print('spam')\n",
    "    print('spam')"
   ]
  },
  {
   "cell_type": "raw",
   "id": "05f1406e",
   "metadata": {},
   "source": [
    "8>\n",
    "spam=int(input())\n",
    "if spam==1:\n",
    "    print('Hello')\n",
    "elif spam==2:\n",
    "    print('Howdy')\n",
    "else:\n",
    "    print('Greetings!')"
   ]
  },
  {
   "cell_type": "raw",
   "id": "6cbec66d",
   "metadata": {},
   "source": []
  }
 ],
 "metadata": {
  "kernelspec": {
   "display_name": "Python 3 (ipykernel)",
   "language": "python",
   "name": "python3"
  },
  "language_info": {
   "codemirror_mode": {
    "name": "ipython",
    "version": 3
   },
   "file_extension": ".py",
   "mimetype": "text/x-python",
   "name": "python",
   "nbconvert_exporter": "python",
   "pygments_lexer": "ipython3",
   "version": "3.9.12"
  }
 },
 "nbformat": 4,
 "nbformat_minor": 5
}
