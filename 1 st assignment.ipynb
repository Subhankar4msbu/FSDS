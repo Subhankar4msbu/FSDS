{
 "cells": [
  {
   "cell_type": "raw",
   "id": "7ce38e2d",
   "metadata": {},
   "source": [
    "1>  Here - , / , + are mathematical operator"
   ]
  },
  {
   "cell_type": "raw",
   "id": "f409fbb9",
   "metadata": {},
   "source": [
    "2>  A Variable is a store of information, and a String is a type of information we would store in a Variable."
   ]
  },
  {
   "cell_type": "markdown",
   "id": "84a0199d",
   "metadata": {},
   "source": [
    "3>  Three different datatypes are\n",
    "a.Integer (int) :It is the most common numeric data type used to store numbers without a fractional component.\n",
    "b.Floating point (float) :It is the numeric data type used to store numbers with a fractional component.\n",
    "c.Boolean (bool) :It represents true or false"
   ]
  },
  {
   "cell_type": "raw",
   "id": "7112c9bf",
   "metadata": {},
   "source": [
    "4>  An expression is a construct made up of variables, operators, and method invocations, which are constructed according to the syntax of the language, that evaluates to a single value."
   ]
  },
  {
   "cell_type": "raw",
   "id": "e25489af",
   "metadata": {},
   "source": [
    "5>  Statements represent an action or command ,where Expression is a combination of variables, operations and values that yields a result value."
   ]
  },
  {
   "cell_type": "raw",
   "id": "e618c3b2",
   "metadata": {},
   "source": [
    "6> 23"
   ]
  },
  {
   "cell_type": "raw",
   "id": "eb516811",
   "metadata": {},
   "source": [
    "7> 'spamspamspam'\n",
    "   'spamspamspam'\n",
    "   "
   ]
  },
  {
   "cell_type": "raw",
   "id": "aa5dbc6e",
   "metadata": {},
   "source": [
    "8> Because a Variable names cannot begin with a number."
   ]
  },
  {
   "cell_type": "raw",
   "id": "d1ed5b64",
   "metadata": {},
   "source": [
    "9> int() , float() , and str( )"
   ]
  },
  {
   "cell_type": "raw",
   "id": "f896bbef",
   "metadata": {},
   "source": [
    "10> 99 is an integer, and only strings can be concatenated to other strings with the + operator. \n",
    "    We can fix this error by converting int 99 into str 99."
   ]
  },
  {
   "cell_type": "code",
   "execution_count": null,
   "id": "dfe55daa",
   "metadata": {},
   "outputs": [],
   "source": []
  }
 ],
 "metadata": {
  "kernelspec": {
   "display_name": "Python 3 (ipykernel)",
   "language": "python",
   "name": "python3"
  },
  "language_info": {
   "codemirror_mode": {
    "name": "ipython",
    "version": 3
   },
   "file_extension": ".py",
   "mimetype": "text/x-python",
   "name": "python",
   "nbconvert_exporter": "python",
   "pygments_lexer": "ipython3",
   "version": "3.9.12"
  }
 },
 "nbformat": 4,
 "nbformat_minor": 5
}
